{
 "cells": [
  {
   "cell_type": "code",
   "execution_count": 64,
   "metadata": {},
   "outputs": [],
   "source": [
    "import pandas as pd\n",
    "import os\n",
    "from pathlib import Path\n",
    "\n",
    "# top_level is where pyproject.toml is\n",
    "while (Path.cwd() / \"pyproject.toml\").is_file() == False:\n",
    "    os.chdir(\"..\")\n",
    "\n",
    "overlap_package = Path(\"data\", \"packages\", \"geographic_overlaps\")\n",
    "format = \"{0}_{1}_combo_overlap.parquet\""
   ]
  },
  {
   "cell_type": "code",
   "execution_count": 25,
   "metadata": {},
   "outputs": [
    {
     "data": {
      "text/plain": [
       "1    404\n",
       "2    220\n",
       "3     26\n",
       "Name: LAD23, dtype: int64"
      ]
     },
     "execution_count": 25,
     "metadata": {},
     "output_type": "execute_result"
    }
   ],
   "source": [
    "# how many 2023 constituencies cross local authorities\n",
    "\n",
    "df = pd.read_parquet(\n",
    "    overlap_package / format.format(\"PARL25\", \"LAD23\"), engine=\"pyarrow\"\n",
    ")\n",
    "df[\"over_five\"] = df[\"percentage_overlap_pop\"] > 0.05\n",
    "\n",
    "# limit to those with over 5% overlap\n",
    "df = df[df[\"over_five\"]]\n",
    "\n",
    "pt = df.pivot_table(index=\"PARL25\", values=\"LAD23\", aggfunc=\"count\", fill_value=0)\n",
    "\n",
    "new_counts = pt[\"LAD23\"].value_counts()\n",
    "new_counts"
   ]
  },
  {
   "cell_type": "code",
   "execution_count": 26,
   "metadata": {},
   "outputs": [
    {
     "data": {
      "text/plain": [
       "1    478\n",
       "2    155\n",
       "3     16\n",
       "4      1\n",
       "Name: LAD23, dtype: int64"
      ]
     },
     "execution_count": 26,
     "metadata": {},
     "output_type": "execute_result"
    }
   ],
   "source": [
    "# how many 2010 constituencies cross local authorities\n",
    "\n",
    "df = pd.read_parquet(\n",
    "    overlap_package / format.format(\"PARL10\", \"LAD23\"), engine=\"pyarrow\"\n",
    ")\n",
    "df[\"over_five\"] = df[\"percentage_overlap_pop\"] > 0.05\n",
    "# limit to those with over 5% overlap\n",
    "df = df[df[\"over_five\"]]\n",
    "\n",
    "pt = df.pivot_table(index=\"PARL10\", values=\"LAD23\", aggfunc=\"count\", fill_value=0)\n",
    "\n",
    "old_counts = pt[\"LAD23\"].value_counts()\n",
    "old_counts"
   ]
  },
  {
   "cell_type": "code",
   "execution_count": 42,
   "metadata": {},
   "outputs": [
    {
     "data": {
      "text/html": [
       "<div>\n",
       "<style scoped>\n",
       "    .dataframe tbody tr th:only-of-type {\n",
       "        vertical-align: middle;\n",
       "    }\n",
       "\n",
       "    .dataframe tbody tr th {\n",
       "        vertical-align: top;\n",
       "    }\n",
       "\n",
       "    .dataframe thead th {\n",
       "        text-align: right;\n",
       "    }\n",
       "</style>\n",
       "<table border=\"1\" class=\"dataframe\">\n",
       "  <thead>\n",
       "    <tr style=\"text-align: right;\">\n",
       "      <th></th>\n",
       "      <th>2010_cons</th>\n",
       "      <th>2025_cons</th>\n",
       "    </tr>\n",
       "  </thead>\n",
       "  <tbody>\n",
       "    <tr>\n",
       "      <th>1</th>\n",
       "      <td>478</td>\n",
       "      <td>404</td>\n",
       "    </tr>\n",
       "    <tr>\n",
       "      <th>2</th>\n",
       "      <td>155</td>\n",
       "      <td>220</td>\n",
       "    </tr>\n",
       "    <tr>\n",
       "      <th>3</th>\n",
       "      <td>16</td>\n",
       "      <td>26</td>\n",
       "    </tr>\n",
       "    <tr>\n",
       "      <th>4</th>\n",
       "      <td>1</td>\n",
       "      <td>0</td>\n",
       "    </tr>\n",
       "  </tbody>\n",
       "</table>\n",
       "</div>"
      ],
      "text/plain": [
       "   2010_cons  2025_cons\n",
       "1        478        404\n",
       "2        155        220\n",
       "3         16         26\n",
       "4          1          0"
      ]
     },
     "execution_count": 42,
     "metadata": {},
     "output_type": "execute_result"
    }
   ],
   "source": [
    "combo = (\n",
    "    pd.DataFrame({\"2010_cons\": old_counts, \"2025_cons\": new_counts})\n",
    "    .fillna(0)\n",
    "    .astype(int)\n",
    ")\n",
    "combo"
   ]
  },
  {
   "cell_type": "code",
   "execution_count": 46,
   "metadata": {},
   "outputs": [
    {
     "data": {
      "text/html": [
       "<div>\n",
       "<style scoped>\n",
       "    .dataframe tbody tr th:only-of-type {\n",
       "        vertical-align: middle;\n",
       "    }\n",
       "\n",
       "    .dataframe tbody tr th {\n",
       "        vertical-align: top;\n",
       "    }\n",
       "\n",
       "    .dataframe thead th {\n",
       "        text-align: right;\n",
       "    }\n",
       "</style>\n",
       "<table border=\"1\" class=\"dataframe\">\n",
       "  <thead>\n",
       "    <tr style=\"text-align: right;\">\n",
       "      <th></th>\n",
       "      <th>2010_cons</th>\n",
       "      <th>2025_cons</th>\n",
       "    </tr>\n",
       "  </thead>\n",
       "  <tbody>\n",
       "    <tr>\n",
       "      <th>1</th>\n",
       "      <td>74%</td>\n",
       "      <td>62%</td>\n",
       "    </tr>\n",
       "    <tr>\n",
       "      <th>2</th>\n",
       "      <td>24%</td>\n",
       "      <td>34%</td>\n",
       "    </tr>\n",
       "    <tr>\n",
       "      <th>3</th>\n",
       "      <td>2%</td>\n",
       "      <td>4%</td>\n",
       "    </tr>\n",
       "    <tr>\n",
       "      <th>4</th>\n",
       "      <td>0%</td>\n",
       "      <td>0%</td>\n",
       "    </tr>\n",
       "  </tbody>\n",
       "</table>\n",
       "</div>"
      ],
      "text/plain": [
       "  2010_cons 2025_cons\n",
       "1       74%       62%\n",
       "2       24%       34%\n",
       "3        2%        4%\n",
       "4        0%        0%"
      ]
     },
     "execution_count": 46,
     "metadata": {},
     "output_type": "execute_result"
    }
   ],
   "source": [
    "percent_combo = (combo / 650).applymap(lambda x: \"{0:.0f}%\".format(x * 100))\n",
    "# format as percentage\n",
    "percent_combo"
   ]
  },
  {
   "cell_type": "code",
   "execution_count": 50,
   "metadata": {},
   "outputs": [
    {
     "data": {
      "text/html": [
       "<div>\n",
       "<style scoped>\n",
       "    .dataframe tbody tr th:only-of-type {\n",
       "        vertical-align: middle;\n",
       "    }\n",
       "\n",
       "    .dataframe tbody tr th {\n",
       "        vertical-align: top;\n",
       "    }\n",
       "\n",
       "    .dataframe thead th {\n",
       "        text-align: right;\n",
       "    }\n",
       "</style>\n",
       "<table border=\"1\" class=\"dataframe\">\n",
       "  <thead>\n",
       "    <tr style=\"text-align: right;\">\n",
       "      <th></th>\n",
       "      <th>overlap with 2023 LADs</th>\n",
       "      <th>2010_cons</th>\n",
       "      <th>2025_cons</th>\n",
       "      <th>2010_cons%</th>\n",
       "      <th>2025_cons%</th>\n",
       "    </tr>\n",
       "  </thead>\n",
       "  <tbody>\n",
       "    <tr>\n",
       "      <th>0</th>\n",
       "      <td>1</td>\n",
       "      <td>478</td>\n",
       "      <td>404</td>\n",
       "      <td>74%</td>\n",
       "      <td>62%</td>\n",
       "    </tr>\n",
       "    <tr>\n",
       "      <th>1</th>\n",
       "      <td>2</td>\n",
       "      <td>155</td>\n",
       "      <td>220</td>\n",
       "      <td>24%</td>\n",
       "      <td>34%</td>\n",
       "    </tr>\n",
       "    <tr>\n",
       "      <th>2</th>\n",
       "      <td>3</td>\n",
       "      <td>16</td>\n",
       "      <td>26</td>\n",
       "      <td>2%</td>\n",
       "      <td>4%</td>\n",
       "    </tr>\n",
       "    <tr>\n",
       "      <th>3</th>\n",
       "      <td>4</td>\n",
       "      <td>1</td>\n",
       "      <td>0</td>\n",
       "      <td>0%</td>\n",
       "      <td>0%</td>\n",
       "    </tr>\n",
       "  </tbody>\n",
       "</table>\n",
       "</div>"
      ],
      "text/plain": [
       "   overlap with 2023 LADs  2010_cons  2025_cons 2010_cons% 2025_cons%\n",
       "0                       1        478        404        74%        62%\n",
       "1                       2        155        220        24%        34%\n",
       "2                       3         16         26         2%         4%\n",
       "3                       4          1          0         0%         0%"
      ]
     },
     "execution_count": 50,
     "metadata": {},
     "output_type": "execute_result"
    }
   ],
   "source": [
    "# combine both tables so we have the raw number then the percentage\n",
    "# of overlap between the two tables\n",
    "# name index \"overlap with 2023 LADs\"\n",
    "final = combo.join(percent_combo, rsuffix=\"%\")\n",
    "final = final.reset_index()\n",
    "final = final.rename(columns={\"index\": \"overlap with 2023 LADs\"})\n",
    "final.to_csv(Path(\"data\", \"interim\", \"overlap.csv\"), index=False)\n",
    "final"
   ]
  },
  {
   "cell_type": "code",
   "execution_count": 90,
   "metadata": {},
   "outputs": [
    {
     "data": {
      "text/html": [
       "<div>\n",
       "<style scoped>\n",
       "    .dataframe tbody tr th:only-of-type {\n",
       "        vertical-align: middle;\n",
       "    }\n",
       "\n",
       "    .dataframe tbody tr th {\n",
       "        vertical-align: top;\n",
       "    }\n",
       "\n",
       "    .dataframe thead th {\n",
       "        text-align: right;\n",
       "    }\n",
       "</style>\n",
       "<table border=\"1\" class=\"dataframe\">\n",
       "  <thead>\n",
       "    <tr style=\"text-align: right;\">\n",
       "      <th>less_than_threshold</th>\n",
       "      <th>threshold</th>\n",
       "      <th>parl</th>\n",
       "      <th>False</th>\n",
       "      <th>True</th>\n",
       "      <th>total</th>\n",
       "      <th>True_per</th>\n",
       "      <th>False_per</th>\n",
       "    </tr>\n",
       "  </thead>\n",
       "  <tbody>\n",
       "    <tr>\n",
       "      <th>0</th>\n",
       "      <td>0.5</td>\n",
       "      <td>PARL10</td>\n",
       "      <td>61517372.63</td>\n",
       "      <td>5253884.51</td>\n",
       "      <td>66771257.14</td>\n",
       "      <td>0.078685</td>\n",
       "      <td>0.921315</td>\n",
       "    </tr>\n",
       "    <tr>\n",
       "      <th>0</th>\n",
       "      <td>0.5</td>\n",
       "      <td>PARL25</td>\n",
       "      <td>59174291.55</td>\n",
       "      <td>7605681.79</td>\n",
       "      <td>66779973.34</td>\n",
       "      <td>0.113892</td>\n",
       "      <td>0.886108</td>\n",
       "    </tr>\n",
       "  </tbody>\n",
       "</table>\n",
       "</div>"
      ],
      "text/plain": [
       "less_than_threshold  threshold    parl        False        True        total  \\\n",
       "0                          0.5  PARL10  61517372.63  5253884.51  66771257.14   \n",
       "0                          0.5  PARL25  59174291.55  7605681.79  66779973.34   \n",
       "\n",
       "less_than_threshold  True_per  False_per  \n",
       "0                    0.078685   0.921315  \n",
       "0                    0.113892   0.886108  "
      ]
     },
     "execution_count": 90,
     "metadata": {},
     "output_type": "execute_result"
    }
   ],
   "source": [
    "# minority population - people with a different MP to most of their area\n",
    "\n",
    "dfs = []\n",
    "\n",
    "for parl in [\"PARL10\", \"PARL25\"]:\n",
    "    for threshold in [0.5]:\n",
    "\n",
    "        df = pd.read_parquet(\n",
    "            overlap_package / format.format(parl, \"LAD23\"), engine=\"pyarrow\"\n",
    "        )\n",
    "\n",
    "        # sort by PARL25 and then decending by percentage_overlap_pop\n",
    "\n",
    "        df[\"less_than_threshold\"] = df[\"percentage_overlap_pop\"] < threshold\n",
    "        df = df.rename(columns={\"overlap_pop\": parl})\n",
    "\n",
    "        pt = df.pivot_table(\n",
    "            columns=\"less_than_threshold\", values=parl, aggfunc=\"sum\"\n",
    "        ).reset_index()\n",
    "        pt = pt.rename(columns={\"index\": \"parl\"})\n",
    "\n",
    "        pt[\"total\"] = pt[True] + pt[False]\n",
    "        # rotate the table\n",
    "        pt[\"True_per\"] = pt[True] / pt[\"total\"]\n",
    "        pt[\"False_per\"] = pt[False] / pt[\"total\"]\n",
    "        pt[\"threshold\"] = threshold\n",
    "        # move threshold column to second position\n",
    "        cols = list(pt.columns)\n",
    "        cols = [cols[-1]] + cols[:-1]\n",
    "        pt = pt[cols]\n",
    "        dfs.append(pt)\n",
    "\n",
    "df = pd.concat(dfs).sort_values([\"threshold\", \"parl\"])  # type: ignore\n",
    "df"
   ]
  },
  {
   "cell_type": "code",
   "execution_count": null,
   "metadata": {},
   "outputs": [],
   "source": [
    "# change from 8 to 11% in minority area.\n",
    "# Interesting, but not sure how to interpret it."
   ]
  }
 ],
 "metadata": {
  "kernelspec": {
   "display_name": "Python 3",
   "language": "python",
   "name": "python3"
  },
  "language_info": {
   "codemirror_mode": {
    "name": "ipython",
    "version": 3
   },
   "file_extension": ".py",
   "mimetype": "text/x-python",
   "name": "python",
   "nbconvert_exporter": "python",
   "pygments_lexer": "ipython3",
   "version": "3.10.11"
  },
  "orig_nbformat": 4
 },
 "nbformat": 4,
 "nbformat_minor": 2
}
