{
 "cells": [
  {
   "cell_type": "code",
   "execution_count": 15,
   "metadata": {},
   "outputs": [
    {
     "data": {
      "text/plain": [
       "{'t': pathlib.Path}"
      ]
     },
     "execution_count": 15,
     "metadata": {},
     "output_type": "execute_result"
    }
   ],
   "source": [
    "from __future__ import annotations\n",
    "from typing import get_type_hints\n",
    "from pathlib import Path\n",
    "\n",
    "\n",
    "def test(t: Path):\n",
    "    ..."
   ]
  },
  {
   "cell_type": "code",
   "execution_count": 18,
   "metadata": {
    "execution": {
     "iopub.execute_input": "2023-08-07T16:07:52.590141Z",
     "iopub.status.busy": "2023-08-07T16:07:52.589956Z",
     "iopub.status.idle": "2023-08-07T16:07:52.899407Z",
     "shell.execute_reply": "2023-08-07T16:07:52.898812Z"
    }
   },
   "outputs": [],
   "source": [
    "from pathlib import Path\n",
    "from shapely import Point\n",
    "import pandas as pd\n",
    "import geopandas as gpd\n",
    "from tqdm import tqdm\n",
    "\n",
    "top_level = Path.cwd()\n",
    "\n",
    "while (top_level / \"pyproject.toml\").exists() is False:\n",
    "    top_level = top_level.parent\n",
    "\n",
    "p = top_level / \"data\" / \"raw\" / \"external\" / \"DZ2021.parquet\"\n",
    "\n",
    "gdf = gpd.read_parquet(p)"
   ]
  },
  {
   "cell_type": "code",
   "execution_count": 24,
   "metadata": {},
   "outputs": [],
   "source": [
    "# get into national grid format\n",
    "\n",
    "gdf = gdf.to_crs(epsg=27700)\n",
    "\n",
    "if gdf is None:\n",
    "    raise ValueError(f\"Error with CRS\")\n",
    "\n",
    "# get the centroid of each polygon\n",
    "gdf[\"centroid\"] = gdf.geometry.centroid\n",
    "\n",
    "# get the eastings and northings of the centroid\n",
    "gdf[\"Eastings\"] = gdf.centroid.x\n",
    "gdf[\"Northings\"] = gdf.centroid.y\n",
    "\n",
    "df = gdf[[\"DZ2021_cd\", \"Eastings\", \"Northings\"]]  # type: ignore\n",
    "df = df.rename(columns={\"DZ2021_cd\": \"Postcode\"})  # type: ignore\n",
    "\n",
    "header = [\n",
    "    \"Postcode\",\n",
    "    \"Positional_quality_indicator\",\n",
    "    \"Eastings\",\n",
    "    \"Northings\",\n",
    "    \"Country_code\",\n",
    "    \"NHS_regional_HA_code\",\n",
    "    \"NHS_HA_code\",\n",
    "    \"Admin_county_code\",\n",
    "    \"Admin_district_code\",\n",
    "    \"Admin_ward_code\",\n",
    "]\n",
    "\n",
    "df[\"Positional_quality_indicator\"] = 10\n",
    "# add blank columns for all the header columns not currently populated and reorder\n",
    "\n",
    "for col in header:\n",
    "    if col not in df.columns:\n",
    "        df[col] = \"\"\n",
    "\n",
    "df = df[header]\n",
    "\n",
    "# convert easting and northings to integers\n",
    "\n",
    "df[\"Eastings\"] = df[\"Eastings\"].astype(int)\n",
    "df[\"Northings\"] = df[\"Northings\"].astype(int)\n",
    "\n",
    "df.head()\n",
    "\n",
    "codepo_folder = top_level / \"data\" / \"raw\" / \"external\" / \"codepo\" / \"csv\"\n",
    "\n",
    "df.to_csv(codepo_folder / \"fake_ni.csv\", index=False, header=False)"
   ]
  }
 ],
 "metadata": {
  "kernelspec": {
   "display_name": "Python 3",
   "language": "python",
   "name": "python3"
  },
  "language_info": {
   "codemirror_mode": {
    "name": "ipython",
    "version": 3
   },
   "file_extension": ".py",
   "mimetype": "text/x-python",
   "name": "python",
   "nbconvert_exporter": "python",
   "pygments_lexer": "ipython3",
   "version": "3.10.11"
  }
 },
 "nbformat": 4,
 "nbformat_minor": 2
}
