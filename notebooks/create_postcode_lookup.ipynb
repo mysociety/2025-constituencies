{
 "cells": [
  {
   "cell_type": "code",
   "execution_count": 1,
   "metadata": {
    "execution": {
     "iopub.execute_input": "2023-08-07T16:07:52.590141Z",
     "iopub.status.busy": "2023-08-07T16:07:52.589956Z",
     "iopub.status.idle": "2023-08-07T16:07:52.899407Z",
     "shell.execute_reply": "2023-08-07T16:07:52.898812Z"
    }
   },
   "outputs": [],
   "source": [
    "from pathlib import Path\n",
    "from shapely import Point\n",
    "import pandas as pd\n",
    "import geopandas as gpd\n",
    "from tqdm import tqdm\n",
    "\n",
    "top_level = Path.cwd()\n",
    "\n",
    "while (top_level / \"pyproject.toml\").exists() is False:\n",
    "    top_level = top_level.parent\n",
    "\n",
    "parl_data_loc = (\n",
    "    top_level\n",
    "    / \"data\"\n",
    "    / \"packages\"\n",
    "    / \"parliament_con_2025\"\n",
    "    / \"parl_constituencies_2025.parquet\"\n",
    ")"
   ]
  },
  {
   "cell_type": "code",
   "execution_count": 2,
   "metadata": {
    "execution": {
     "iopub.execute_input": "2023-08-07T16:07:52.902345Z",
     "iopub.status.busy": "2023-08-07T16:07:52.901900Z",
     "iopub.status.idle": "2023-08-07T16:08:04.973191Z",
     "shell.execute_reply": "2023-08-07T16:08:04.972594Z"
    }
   },
   "outputs": [
    {
     "name": "stderr",
     "output_type": "stream",
     "text": [
      "\r",
      "  0%|                                                                                                                                          | 0/120 [00:00<?, ?it/s]"
     ]
    },
    {
     "name": "stderr",
     "output_type": "stream",
     "text": [
      "\r",
      "  1%|█                                                                                                                                 | 1/120 [00:00<00:16,  7.30it/s]"
     ]
    },
    {
     "name": "stderr",
     "output_type": "stream",
     "text": [
      "\r",
      "  2%|███▎                                                                                                                              | 3/120 [00:00<00:10, 10.68it/s]"
     ]
    },
    {
     "name": "stderr",
     "output_type": "stream",
     "text": [
      "\r",
      "  4%|█████▍                                                                                                                            | 5/120 [00:00<00:09, 12.40it/s]"
     ]
    },
    {
     "name": "stderr",
     "output_type": "stream",
     "text": [
      "\r",
      "  6%|███████▌                                                                                                                          | 7/120 [00:00<00:09, 11.81it/s]"
     ]
    },
    {
     "name": "stderr",
     "output_type": "stream",
     "text": [
      "\r",
      "  8%|█████████▊                                                                                                                        | 9/120 [00:00<00:11, 10.03it/s]"
     ]
    },
    {
     "name": "stderr",
     "output_type": "stream",
     "text": [
      "\r",
      " 10%|████████████▉                                                                                                                    | 12/120 [00:00<00:08, 13.24it/s]"
     ]
    },
    {
     "name": "stderr",
     "output_type": "stream",
     "text": [
      "\r",
      " 12%|███████████████                                                                                                                  | 14/120 [00:01<00:08, 12.03it/s]"
     ]
    },
    {
     "name": "stderr",
     "output_type": "stream",
     "text": [
      "\r",
      " 13%|█████████████████▏                                                                                                               | 16/120 [00:01<00:09, 11.18it/s]"
     ]
    },
    {
     "name": "stderr",
     "output_type": "stream",
     "text": [
      "\r",
      " 15%|███████████████████▎                                                                                                             | 18/120 [00:01<00:08, 11.62it/s]"
     ]
    },
    {
     "name": "stderr",
     "output_type": "stream",
     "text": [
      "\r",
      " 17%|█████████████████████▌                                                                                                           | 20/120 [00:01<00:08, 11.73it/s]"
     ]
    },
    {
     "name": "stderr",
     "output_type": "stream",
     "text": [
      "\r",
      " 19%|████████████████████████▋                                                                                                        | 23/120 [00:01<00:07, 13.79it/s]"
     ]
    },
    {
     "name": "stderr",
     "output_type": "stream",
     "text": [
      "\r",
      " 21%|██████████████████████████▉                                                                                                      | 25/120 [00:02<00:06, 13.87it/s]"
     ]
    },
    {
     "name": "stderr",
     "output_type": "stream",
     "text": [
      "\r",
      " 22%|█████████████████████████████                                                                                                    | 27/120 [00:02<00:06, 15.00it/s]"
     ]
    },
    {
     "name": "stderr",
     "output_type": "stream",
     "text": [
      "\r",
      " 24%|███████████████████████████████▏                                                                                                 | 29/120 [00:02<00:07, 12.56it/s]"
     ]
    },
    {
     "name": "stderr",
     "output_type": "stream",
     "text": [
      "\r",
      " 26%|█████████████████████████████████▎                                                                                               | 31/120 [00:02<00:08, 10.66it/s]"
     ]
    },
    {
     "name": "stderr",
     "output_type": "stream",
     "text": [
      "\r",
      " 28%|███████████████████████████████████▍                                                                                             | 33/120 [00:02<00:07, 12.00it/s]"
     ]
    },
    {
     "name": "stderr",
     "output_type": "stream",
     "text": [
      "\r",
      " 29%|█████████████████████████████████████▋                                                                                           | 35/120 [00:02<00:07, 11.91it/s]"
     ]
    },
    {
     "name": "stderr",
     "output_type": "stream",
     "text": [
      "\r",
      " 31%|███████████████████████████████████████▊                                                                                         | 37/120 [00:03<00:06, 12.48it/s]"
     ]
    },
    {
     "name": "stderr",
     "output_type": "stream",
     "text": [
      "\r",
      " 32%|█████████████████████████████████████████▉                                                                                       | 39/120 [00:03<00:07, 10.92it/s]"
     ]
    },
    {
     "name": "stderr",
     "output_type": "stream",
     "text": [
      "\r",
      " 34%|████████████████████████████████████████████                                                                                     | 41/120 [00:03<00:06, 11.77it/s]"
     ]
    },
    {
     "name": "stderr",
     "output_type": "stream",
     "text": [
      "\r",
      " 36%|██████████████████████████████████████████████▏                                                                                  | 43/120 [00:03<00:07, 10.82it/s]"
     ]
    },
    {
     "name": "stderr",
     "output_type": "stream",
     "text": [
      "\r",
      " 38%|████████████████████████████████████████████████▍                                                                                | 45/120 [00:03<00:06, 11.22it/s]"
     ]
    },
    {
     "name": "stderr",
     "output_type": "stream",
     "text": [
      "\r",
      " 39%|██████████████████████████████████████████████████▌                                                                              | 47/120 [00:04<00:06, 10.66it/s]"
     ]
    },
    {
     "name": "stderr",
     "output_type": "stream",
     "text": [
      "\r",
      " 42%|█████████████████████████████████████████████████████▊                                                                           | 50/120 [00:04<00:05, 12.78it/s]"
     ]
    },
    {
     "name": "stderr",
     "output_type": "stream",
     "text": [
      "\r",
      " 43%|███████████████████████████████████████████████████████▉                                                                         | 52/120 [00:04<00:05, 13.25it/s]"
     ]
    },
    {
     "name": "stderr",
     "output_type": "stream",
     "text": [
      "\r",
      " 45%|██████████████████████████████████████████████████████████                                                                       | 54/120 [00:04<00:06, 10.72it/s]"
     ]
    },
    {
     "name": "stderr",
     "output_type": "stream",
     "text": [
      "\r",
      " 47%|████████████████████████████████████████████████████████████▏                                                                    | 56/120 [00:04<00:06, 10.00it/s]"
     ]
    },
    {
     "name": "stderr",
     "output_type": "stream",
     "text": [
      "\r",
      " 48%|██████████████████████████████████████████████████████████████▎                                                                  | 58/120 [00:05<00:06,  9.11it/s]"
     ]
    },
    {
     "name": "stderr",
     "output_type": "stream",
     "text": [
      "\r",
      " 50%|████████████████████████████████████████████████████████████████▌                                                                | 60/120 [00:05<00:06,  9.64it/s]"
     ]
    },
    {
     "name": "stderr",
     "output_type": "stream",
     "text": [
      "\r",
      " 52%|██████████████████████████████████████████████████████████████████▋                                                              | 62/120 [00:05<00:05,  9.95it/s]"
     ]
    },
    {
     "name": "stderr",
     "output_type": "stream",
     "text": [
      "\r",
      " 53%|████████████████████████████████████████████████████████████████████▊                                                            | 64/120 [00:05<00:05, 10.99it/s]"
     ]
    },
    {
     "name": "stderr",
     "output_type": "stream",
     "text": [
      "\r",
      " 55%|██████████████████████████████████████████████████████████████████████▉                                                          | 66/120 [00:05<00:05,  9.59it/s]"
     ]
    },
    {
     "name": "stderr",
     "output_type": "stream",
     "text": [
      "\r",
      " 57%|█████████████████████████████████████████████████████████████████████████                                                        | 68/120 [00:06<00:04, 10.52it/s]"
     ]
    },
    {
     "name": "stderr",
     "output_type": "stream",
     "text": [
      "\r",
      " 58%|███████████████████████████████████████████████████████████████████████████▎                                                     | 70/120 [00:06<00:04, 10.14it/s]"
     ]
    },
    {
     "name": "stderr",
     "output_type": "stream",
     "text": [
      "\r",
      " 60%|█████████████████████████████████████████████████████████████████████████████▍                                                   | 72/120 [00:06<00:04,  9.60it/s]"
     ]
    },
    {
     "name": "stderr",
     "output_type": "stream",
     "text": [
      "\r",
      " 62%|███████████████████████████████████████████████████████████████████████████████▌                                                 | 74/120 [00:06<00:04, 10.75it/s]"
     ]
    },
    {
     "name": "stderr",
     "output_type": "stream",
     "text": [
      "\r",
      " 63%|█████████████████████████████████████████████████████████████████████████████████▋                                               | 76/120 [00:06<00:03, 11.92it/s]"
     ]
    },
    {
     "name": "stderr",
     "output_type": "stream",
     "text": [
      "\r",
      " 65%|███████████████████████████████████████████████████████████████████████████████████▊                                             | 78/120 [00:06<00:03, 11.95it/s]"
     ]
    },
    {
     "name": "stderr",
     "output_type": "stream",
     "text": [
      "\r",
      " 67%|██████████████████████████████████████████████████████████████████████████████████████                                           | 80/120 [00:07<00:03, 12.57it/s]"
     ]
    },
    {
     "name": "stderr",
     "output_type": "stream",
     "text": [
      "\r",
      " 69%|█████████████████████████████████████████████████████████████████████████████████████████▏                                       | 83/120 [00:07<00:02, 15.19it/s]"
     ]
    },
    {
     "name": "stderr",
     "output_type": "stream",
     "text": [
      "\r",
      " 71%|███████████████████████████████████████████████████████████████████████████████████████████▍                                     | 85/120 [00:07<00:02, 13.75it/s]"
     ]
    },
    {
     "name": "stderr",
     "output_type": "stream",
     "text": [
      "\r",
      " 72%|█████████████████████████████████████████████████████████████████████████████████████████████▌                                   | 87/120 [00:07<00:02, 12.84it/s]"
     ]
    },
    {
     "name": "stderr",
     "output_type": "stream",
     "text": [
      "\r",
      " 74%|███████████████████████████████████████████████████████████████████████████████████████████████▋                                 | 89/120 [00:07<00:02, 11.75it/s]"
     ]
    },
    {
     "name": "stderr",
     "output_type": "stream",
     "text": [
      "\r",
      " 76%|█████████████████████████████████████████████████████████████████████████████████████████████████▊                               | 91/120 [00:07<00:02, 11.49it/s]"
     ]
    },
    {
     "name": "stderr",
     "output_type": "stream",
     "text": [
      "\r",
      " 78%|███████████████████████████████████████████████████████████████████████████████████████████████████▉                             | 93/120 [00:08<00:02, 11.03it/s]"
     ]
    },
    {
     "name": "stderr",
     "output_type": "stream",
     "text": [
      "\r",
      " 79%|██████████████████████████████████████████████████████████████████████████████████████████████████████▏                          | 95/120 [00:08<00:02, 11.40it/s]"
     ]
    },
    {
     "name": "stderr",
     "output_type": "stream",
     "text": [
      "\r",
      " 81%|████████████████████████████████████████████████████████████████████████████████████████████████████████▎                        | 97/120 [00:08<00:01, 11.82it/s]"
     ]
    },
    {
     "name": "stderr",
     "output_type": "stream",
     "text": [
      "\r",
      " 82%|██████████████████████████████████████████████████████████████████████████████████████████████████████████▍                      | 99/120 [00:08<00:01, 12.89it/s]"
     ]
    },
    {
     "name": "stderr",
     "output_type": "stream",
     "text": [
      "\r",
      " 84%|███████████████████████████████████████████████████████████████████████████████████████████████████████████▋                    | 101/120 [00:08<00:01, 12.31it/s]"
     ]
    },
    {
     "name": "stderr",
     "output_type": "stream",
     "text": [
      "\r",
      " 86%|█████████████████████████████████████████████████████████████████████████████████████████████████████████████▊                  | 103/120 [00:08<00:01, 11.03it/s]"
     ]
    },
    {
     "name": "stderr",
     "output_type": "stream",
     "text": [
      "\r",
      " 88%|█████████████████████████████████████████████████████████████████████████████████████████████████████████████████               | 106/120 [00:09<00:01, 12.80it/s]"
     ]
    },
    {
     "name": "stderr",
     "output_type": "stream",
     "text": [
      "\r",
      " 90%|███████████████████████████████████████████████████████████████████████████████████████████████████████████████████▏            | 108/120 [00:09<00:01, 10.97it/s]"
     ]
    },
    {
     "name": "stderr",
     "output_type": "stream",
     "text": [
      "\r",
      " 92%|█████████████████████████████████████████████████████████████████████████████████████████████████████████████████████▎          | 110/120 [00:09<00:00, 10.16it/s]"
     ]
    },
    {
     "name": "stderr",
     "output_type": "stream",
     "text": [
      "\r",
      " 93%|███████████████████████████████████████████████████████████████████████████████████████████████████████████████████████▍        | 112/120 [00:09<00:00, 11.54it/s]"
     ]
    },
    {
     "name": "stderr",
     "output_type": "stream",
     "text": [
      "\r",
      " 95%|█████████████████████████████████████████████████████████████████████████████████████████████████████████████████████████▌      | 114/120 [00:09<00:00, 11.36it/s]"
     ]
    },
    {
     "name": "stderr",
     "output_type": "stream",
     "text": [
      "\r",
      " 97%|███████████████████████████████████████████████████████████████████████████████████████████████████████████████████████████▋    | 116/120 [00:10<00:00, 12.62it/s]"
     ]
    },
    {
     "name": "stderr",
     "output_type": "stream",
     "text": [
      "\r",
      " 98%|█████████████████████████████████████████████████████████████████████████████████████████████████████████████████████████████▊  | 118/120 [00:10<00:00, 12.29it/s]"
     ]
    },
    {
     "name": "stderr",
     "output_type": "stream",
     "text": [
      "\r",
      "100%|████████████████████████████████████████████████████████████████████████████████████████████████████████████████████████████████| 120/120 [00:10<00:00, 12.03it/s]"
     ]
    },
    {
     "name": "stderr",
     "output_type": "stream",
     "text": [
      "\r",
      "100%|████████████████████████████████████████████████████████████████████████████████████████████████████████████████████████████████| 120/120 [00:10<00:00, 11.56it/s]"
     ]
    },
    {
     "name": "stderr",
     "output_type": "stream",
     "text": [
      "\n"
     ]
    }
   ],
   "source": [
    "codepoint_dir = top_level / \"data\" / \"raw\" / \"external\" / \"codepo\"\n",
    "csv_dir = codepoint_dir / \"csv\"\n",
    "parquet_dir = codepoint_dir / \"parquet\"\n",
    "\n",
    "header_file = codepoint_dir / \"header.csv\"\n",
    "\n",
    "parl_data = gpd.read_parquet(parl_data_loc).to_crs(epsg=4326)\n",
    "output_loc = (\n",
    "    top_level\n",
    "    / \"data\"\n",
    "    / \"packages\"\n",
    "    / \"uk_parliament_2025_postcode_lookup\"\n",
    "    / \"postcodes_with_con.parquet\"\n",
    ")\n",
    "all_data = []\n",
    "\n",
    "\n",
    "# read in first line of header file as comma separated list\n",
    "with open(header_file, \"r\") as f:\n",
    "    header = f.readline().strip().split(\",\")\n",
    "\n",
    "# for each file in csv_dir - read in as dataframe using header and write out as parquet with a new geometry column\n",
    "\n",
    "\n",
    "for csv_file in tqdm(list(csv_dir.glob(\"*.csv\"))):\n",
    "    df = pd.read_csv(csv_file, names=header)\n",
    "    # from Eastings,Northings, we want to create a geopandas dataframe with a geometry column of point data\n",
    "    gdf = gpd.GeoDataFrame(\n",
    "        df,\n",
    "        geometry=gpd.points_from_xy(df[\"Eastings\"], df[\"Northings\"]),\n",
    "        crs=\"EPSG:27700\",\n",
    "    )\n",
    "    # gdf.to_parquet(parquet_dir / csv_file.with_suffix(\".parquet\").name)\n",
    "    gdf = gdf.to_crs(epsg=4326)\n",
    "\n",
    "    joined = gpd.sjoin(gdf, parl_data, how=\"left\", predicate=\"within\")[\n",
    "        [\"Postcode\", \"short_code\"]\n",
    "    ]\n",
    "    joined = joined.rename(columns={\"Postcode\": \"postcode\"})\n",
    "\n",
    "    all_data.append(joined)\n",
    "\n",
    "df = pd.concat(all_data)\n",
    "\n",
    "# sort by postcode\n",
    "df = df.sort_values(\"postcode\")\n",
    "\n",
    "df.to_parquet(output_loc)"
   ]
  }
 ],
 "metadata": {
  "kernelspec": {
   "display_name": "Python 3",
   "language": "python",
   "name": "python3"
  },
  "language_info": {
   "codemirror_mode": {
    "name": "ipython",
    "version": 3
   },
   "file_extension": ".py",
   "mimetype": "text/x-python",
   "name": "python",
   "nbconvert_exporter": "python",
   "pygments_lexer": "ipython3",
   "version": "3.10.11"
  }
 },
 "nbformat": 4,
 "nbformat_minor": 2
}
